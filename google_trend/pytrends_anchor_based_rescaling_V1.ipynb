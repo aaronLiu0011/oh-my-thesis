{
  "nbformat": 4,
  "nbformat_minor": 0,
  "metadata": {
    "colab": {
      "provenance": []
    },
    "kernelspec": {
      "name": "python3",
      "display_name": "Python 3"
    },
    "language_info": {
      "name": "python"
    }
  },
  "cells": [
    {
      "cell_type": "markdown",
      "source": [
        "# Google Trends Anchor-based Rescaling V1.0\n",
        "\n",
        "* Topic: Chlamydia (Infection)  -> MID = /m/020gd\n",
        "* Anchor: California (US-CA)\n",
        "* Author: LIU Aoran / 2025\n",
        "\n",
        "> **Note**  \n",
        "> You should run this notebook on Google Colab to get a stable IP for Google Trends.\n",
        "\n",
        "> ⚠️ **Warning**  \n",
        "> The methodology for Step 3 is still incomplete and its usability cannot be guaranteed. However, portions of Step 2 can be utilized to scrape data for individual states separately."
      ],
      "metadata": {
        "id": "bQ8zJMpT3zq1"
      }
    },
    {
      "cell_type": "code",
      "execution_count": 2,
      "metadata": {
        "colab": {
          "base_uri": "https://localhost:8080/"
        },
        "id": "UnC09tSayOrI",
        "outputId": "b54730ca-c7e1-4700-9299-8ab74330c367"
      },
      "outputs": [
        {
          "output_type": "stream",
          "name": "stdout",
          "text": [
            "Collecting pytrends\n",
            "  Downloading pytrends-4.9.2-py3-none-any.whl.metadata (13 kB)\n",
            "Requirement already satisfied: requests>=2.0 in /usr/local/lib/python3.12/dist-packages (from pytrends) (2.32.4)\n",
            "Requirement already satisfied: pandas>=0.25 in /usr/local/lib/python3.12/dist-packages (from pytrends) (2.2.2)\n",
            "Requirement already satisfied: lxml in /usr/local/lib/python3.12/dist-packages (from pytrends) (5.4.0)\n",
            "Requirement already satisfied: numpy>=1.26.0 in /usr/local/lib/python3.12/dist-packages (from pandas>=0.25->pytrends) (2.0.2)\n",
            "Requirement already satisfied: python-dateutil>=2.8.2 in /usr/local/lib/python3.12/dist-packages (from pandas>=0.25->pytrends) (2.9.0.post0)\n",
            "Requirement already satisfied: pytz>=2020.1 in /usr/local/lib/python3.12/dist-packages (from pandas>=0.25->pytrends) (2025.2)\n",
            "Requirement already satisfied: tzdata>=2022.7 in /usr/local/lib/python3.12/dist-packages (from pandas>=0.25->pytrends) (2025.2)\n",
            "Requirement already satisfied: charset_normalizer<4,>=2 in /usr/local/lib/python3.12/dist-packages (from requests>=2.0->pytrends) (3.4.3)\n",
            "Requirement already satisfied: idna<4,>=2.5 in /usr/local/lib/python3.12/dist-packages (from requests>=2.0->pytrends) (3.10)\n",
            "Requirement already satisfied: urllib3<3,>=1.21.1 in /usr/local/lib/python3.12/dist-packages (from requests>=2.0->pytrends) (2.5.0)\n",
            "Requirement already satisfied: certifi>=2017.4.17 in /usr/local/lib/python3.12/dist-packages (from requests>=2.0->pytrends) (2025.8.3)\n",
            "Requirement already satisfied: six>=1.5 in /usr/local/lib/python3.12/dist-packages (from python-dateutil>=2.8.2->pandas>=0.25->pytrends) (1.17.0)\n",
            "Downloading pytrends-4.9.2-py3-none-any.whl (15 kB)\n",
            "Installing collected packages: pytrends\n",
            "Successfully installed pytrends-4.9.2\n"
          ]
        }
      ],
      "source": [
        "!pip install pytrends"
      ]
    },
    {
      "cell_type": "code",
      "source": [
        "from pytrends.request import TrendReq\n",
        "import pandas as pd\n",
        "import time, random, os"
      ],
      "metadata": {
        "id": "KQCUzCP0ySX4"
      },
      "execution_count": 3,
      "outputs": []
    },
    {
      "cell_type": "code",
      "source": [
        "from google.colab import drive\n",
        "drive.mount('/content/drive')\n",
        "save_dir = \"/content/drive/MyDrive/google_trends_anchor\"\n",
        "os.makedirs(save_dir, exist_ok=True)"
      ],
      "metadata": {
        "colab": {
          "base_uri": "https://localhost:8080/"
        },
        "id": "G_jYscgPyg0i",
        "outputId": "9cc25889-ce77-4fef-ca45-e301d13eaaff"
      },
      "execution_count": 9,
      "outputs": [
        {
          "output_type": "stream",
          "name": "stdout",
          "text": [
            "Drive already mounted at /content/drive; to attempt to forcibly remount, call drive.mount(\"/content/drive\", force_remount=True).\n"
          ]
        }
      ]
    },
    {
      "cell_type": "code",
      "source": [
        "keyword = \"/m/020gd\"       # Google Topic ID: Chlamydia (Infection)\n",
        "label = \"Chlamydia_infection\"\n",
        "timeframe = \"2018-01-01 2025-09-01\"\n",
        "anchor_state = \"US-CA\"     # California as anchor\n",
        "save_dir = \"/content/drive/MyDrive/google_trends_anchor\"\n",
        "os.makedirs(save_dir, exist_ok=True)"
      ],
      "metadata": {
        "id": "LQDbSVoQyqp8"
      },
      "execution_count": 10,
      "outputs": []
    },
    {
      "cell_type": "code",
      "source": [
        "states = [\n",
        "    'US-AK','US-AL','US-AZ','US-AR','US-CA','US-CO','US-CT','US-DE','US-FL','US-GA','US-HI','US-ID','US-IL',\n",
        "    'US-IN','US-IA','US-KS','US-KY','US-LA','US-ME','US-MD','US-MA','US-MI','US-MN','US-MS','US-MO','US-MT',\n",
        "    'US-NE','US-NV','US-NH','US-NJ','US-NM','US-NY','US-NC','US-ND','US-OH','US-OK','US-OR','US-PA','US-RI',\n",
        "    'US-SC','US-SD','US-TN','US-TX','US-UT','US-VT','US-VA','US-WA','US-WV','US-WI','US-WY'\n",
        "]"
      ],
      "metadata": {
        "id": "VryyFvlXyt5Q"
      },
      "execution_count": 11,
      "outputs": []
    },
    {
      "cell_type": "code",
      "source": [
        "pytrends = TrendReq(hl='en-US', tz=360)"
      ],
      "metadata": {
        "id": "NtrTghrd3eHc"
      },
      "execution_count": 12,
      "outputs": []
    },
    {
      "cell_type": "markdown",
      "source": [
        "## Step 1: Region-level long-term average"
      ],
      "metadata": {
        "id": "oYI0DL764NWg"
      }
    },
    {
      "cell_type": "markdown",
      "source": [
        "Using `interest_by_region()` with `geo=\"US\"`, collect the long-term average Google Trends index for each U.S. state over 2018–2025.\n",
        "\n",
        "These averages represent the relative search intensity of each state with respect to the entire country.\n",
        "\n",
        "Denote the value of **Region-level long-term average** as $\\bar{GT_r}$\n"
      ],
      "metadata": {
        "id": "TG3d7H9H6POE"
      }
    },
    {
      "cell_type": "code",
      "source": [
        "print(\"▶️ Fetching region-level average (for scaling factors)...\")\n",
        "pytrends.build_payload([keyword], geo=\"US\", timeframe=timeframe)\n",
        "region_df = pytrends.interest_by_region(resolution='region', inc_low_vol=True).reset_index()\n",
        "region_df = region_df.rename(columns={keyword: \"avg_index\", \"geoName\": \"state\"})\n",
        "region_df.to_csv(f\"{save_dir}/region_avg.csv\", index=False)\n",
        "print(\"✅ Region averages saved.\")"
      ],
      "metadata": {
        "colab": {
          "base_uri": "https://localhost:8080/"
        },
        "id": "b55RHBbtyxcE",
        "outputId": "c7444027-b67c-4842-d970-69aa9e23c448"
      },
      "execution_count": 13,
      "outputs": [
        {
          "output_type": "stream",
          "name": "stdout",
          "text": [
            "▶️ Fetching region-level average (for scaling factors)...\n",
            "✅ Region averages saved.\n"
          ]
        }
      ]
    },
    {
      "cell_type": "markdown",
      "source": [
        "## Step 2: Time-series per state"
      ],
      "metadata": {
        "id": "AfVhpcjr4T1E"
      }
    },
    {
      "cell_type": "markdown",
      "source": [
        " For each state, we download the complete monthly time series of the topic  *“Chlamydia (Infection)”* (`MID = /m/020gd`) using the `interest_over_time()` function.\n",
        "\n",
        " ( Under ideal conditions, it can be completed in approximately 35–45 minutes for one keyword. )\n"
      ],
      "metadata": {
        "id": "WMmH94PX6dHp"
      }
    },
    {
      "cell_type": "code",
      "source": [
        "print(\"\\n▶️ Fetching state-level time series...\")\n",
        "all_data = []\n",
        "for s in states:\n",
        "    try:\n",
        "        pytrends.build_payload([keyword], geo=s, timeframe=timeframe)\n",
        "        df = pytrends.interest_over_time().reset_index()\n",
        "        if df.empty:\n",
        "            print(f\"⚠️ {s} returned empty data.\")\n",
        "            continue\n",
        "        df = df.rename(columns={keyword: \"gt_index\"})\n",
        "        df[\"state_code\"] = s.split(\"-\")[1]\n",
        "        all_data.append(df)\n",
        "        print(f\"✅ {s} done. Waiting...\")\n",
        "        time.sleep(random.uniform(30, 55))  # avoid 429\n",
        "    except Exception as e:\n",
        "        print(f\"❌ {s} failed: {e}\")\n",
        "        time.sleep(60)"
      ],
      "metadata": {
        "colab": {
          "base_uri": "https://localhost:8080/"
        },
        "id": "52c1ZkCv4UyS",
        "outputId": "ad890078-afeb-4f0c-8dda-2ef1bbaf3ddf"
      },
      "execution_count": 14,
      "outputs": [
        {
          "output_type": "stream",
          "name": "stdout",
          "text": [
            "\n",
            "▶️ Fetching state-level time series...\n",
            "✅ US-AK done. Waiting...\n",
            "✅ US-AL done. Waiting...\n",
            "✅ US-AZ done. Waiting...\n",
            "✅ US-AR done. Waiting...\n",
            "✅ US-CA done. Waiting...\n",
            "✅ US-CO done. Waiting...\n",
            "✅ US-CT done. Waiting...\n",
            "✅ US-DE done. Waiting...\n",
            "✅ US-FL done. Waiting...\n",
            "✅ US-GA done. Waiting...\n",
            "✅ US-HI done. Waiting...\n",
            "✅ US-ID done. Waiting...\n",
            "✅ US-IL done. Waiting...\n",
            "✅ US-IN done. Waiting...\n",
            "✅ US-IA done. Waiting...\n",
            "✅ US-KS done. Waiting...\n",
            "✅ US-KY done. Waiting...\n",
            "✅ US-LA done. Waiting...\n",
            "✅ US-ME done. Waiting...\n",
            "✅ US-MD done. Waiting...\n",
            "✅ US-MA done. Waiting...\n",
            "✅ US-MI done. Waiting...\n",
            "✅ US-MN done. Waiting...\n",
            "✅ US-MS done. Waiting...\n",
            "✅ US-MO done. Waiting...\n",
            "✅ US-MT done. Waiting...\n",
            "✅ US-NE done. Waiting...\n",
            "✅ US-NV done. Waiting...\n",
            "✅ US-NH done. Waiting...\n",
            "✅ US-NJ done. Waiting...\n",
            "✅ US-NM done. Waiting...\n",
            "✅ US-NY done. Waiting...\n",
            "✅ US-NC done. Waiting...\n",
            "✅ US-ND done. Waiting...\n",
            "✅ US-OH done. Waiting...\n",
            "✅ US-OK done. Waiting...\n",
            "✅ US-OR done. Waiting...\n",
            "✅ US-PA done. Waiting...\n",
            "✅ US-RI done. Waiting...\n",
            "✅ US-SC done. Waiting...\n",
            "✅ US-SD done. Waiting...\n",
            "✅ US-TN done. Waiting...\n",
            "✅ US-TX done. Waiting...\n",
            "✅ US-UT done. Waiting...\n",
            "✅ US-VT done. Waiting...\n",
            "✅ US-VA done. Waiting...\n",
            "✅ US-WA done. Waiting...\n",
            "✅ US-WV done. Waiting...\n",
            "✅ US-WI done. Waiting...\n",
            "✅ US-WY done. Waiting...\n"
          ]
        }
      ]
    },
    {
      "cell_type": "code",
      "source": [
        "gt_raw = pd.concat(all_data)\n",
        "gt_raw.to_csv(f\"{save_dir}/gt_raw.csv\", index=False)\n",
        "print(\"✅ All state series saved.\")"
      ],
      "metadata": {
        "colab": {
          "base_uri": "https://localhost:8080/"
        },
        "id": "Qa-T27Za4XZv",
        "outputId": "563661c4-2f98-4488-84e8-7a0d05280bca"
      },
      "execution_count": 15,
      "outputs": [
        {
          "output_type": "stream",
          "name": "stdout",
          "text": [
            "✅ All state series saved.\n"
          ]
        }
      ]
    },
    {
      "cell_type": "markdown",
      "source": [
        "## Step 3: Anchor-based Rescaling"
      ],
      "metadata": {
        "id": "uy_99LcC4Wld"
      }
    },
    {
      "cell_type": "markdown",
      "source": [
        "Each state’s time series is rescaled by the ratio between the long-term average of California and that of the corresponding state:\n",
        "\n",
        "$$\n",
        "\\tilde{GT}_{r,t} = GT_{r,t} \\times\n",
        "\\frac{\\bar{GT_{CA}}}{\\bar{GT_r}}\n",
        "$$\n",
        "\n",
        "where  \n",
        "   - $GT_{r,t}$ is the raw Google Trends index for state $r$ at time $t$,  \n",
        "   - $\\bar{GT_r}$ is the state’s long-term average from Step 1,  \n",
        "   - $\\bar{GT_{CA}}$ is the anchor state’s long-term average.\n",
        "\n",
        "\n",
        "\n",
        "\n",
        "\n",
        "\n",
        "\n",
        "\n",
        "\n",
        "\n"
      ],
      "metadata": {
        "id": "46SkS6auzpOe"
      }
    },
    {
      "cell_type": "code",
      "source": [
        "state_map = {\n",
        "    \"Alabama\": \"AL\", \"Alaska\": \"AK\", \"Arizona\": \"AZ\", \"Arkansas\": \"AR\", \"California\": \"CA\",\n",
        "    \"Colorado\": \"CO\", \"Connecticut\": \"CT\", \"Delaware\": \"DE\", \"Florida\": \"FL\", \"Georgia\": \"GA\",\n",
        "    \"Hawaii\": \"HI\", \"Idaho\": \"ID\", \"Illinois\": \"IL\", \"Indiana\": \"IN\", \"Iowa\": \"IA\",\n",
        "    \"Kansas\": \"KS\", \"Kentucky\": \"KY\", \"Louisiana\": \"LA\", \"Maine\": \"ME\", \"Maryland\": \"MD\",\n",
        "    \"Massachusetts\": \"MA\", \"Michigan\": \"MI\", \"Minnesota\": \"MN\", \"Mississippi\": \"MS\",\n",
        "    \"Missouri\": \"MO\", \"Montana\": \"MT\", \"Nebraska\": \"NE\", \"Nevada\": \"NV\", \"New Hampshire\": \"NH\",\n",
        "    \"New Jersey\": \"NJ\", \"New Mexico\": \"NM\", \"New York\": \"NY\", \"North Carolina\": \"NC\",\n",
        "    \"North Dakota\": \"ND\", \"Ohio\": \"OH\", \"Oklahoma\": \"OK\", \"Oregon\": \"OR\", \"Pennsylvania\": \"PA\",\n",
        "    \"Rhode Island\": \"RI\", \"South Carolina\": \"SC\", \"South Dakota\": \"SD\", \"Tennessee\": \"TN\",\n",
        "    \"Texas\": \"TX\", \"Utah\": \"UT\", \"Vermont\": \"VT\", \"Virginia\": \"VA\", \"Washington\": \"WA\",\n",
        "    \"West Virginia\": \"WV\", \"Wisconsin\": \"WI\", \"Wyoming\": \"WY\", \"District of Columbia\": \"DC\"\n",
        "}\n",
        "\n",
        "region_df[\"state_code\"] = region_df[\"state\"].map(state_map)"
      ],
      "metadata": {
        "id": "LYXu3yM3DN4u"
      },
      "execution_count": 18,
      "outputs": []
    },
    {
      "cell_type": "code",
      "source": [
        "anchor_mean = region_df.loc[region_df[\"state\"]==\"California\",\"avg_index\"].values[0]\n",
        "region_df[\"scale_factor\"] = anchor_mean / region_df[\"avg_index\"]\n"
      ],
      "metadata": {
        "id": "S9CcvlAly0GU"
      },
      "execution_count": 20,
      "outputs": []
    },
    {
      "cell_type": "code",
      "source": [
        "merged = gt_raw.merge(region_df[[\"state_code\",\"scale_factor\"]], on=\"state_code\", how=\"left\")\n",
        "merged[\"scaled_index\"] = merged[\"gt_index\"] * merged[\"scale_factor\"]"
      ],
      "metadata": {
        "id": "jUjOxnbLDfD4"
      },
      "execution_count": 21,
      "outputs": []
    },
    {
      "cell_type": "code",
      "source": [
        "final_path = f\"{save_dir}/gt_anchor_scaled.csv\"\n",
        "merged.to_csv(final_path, index=False)\n",
        "print(f\"\\n✅ Fixed anchor-based rescaled data saved to:\\n{final_path}\")"
      ],
      "metadata": {
        "colab": {
          "base_uri": "https://localhost:8080/"
        },
        "id": "gAmcB9QCDhJO",
        "outputId": "e237dca4-287b-4d43-fbcc-2a122c09a169"
      },
      "execution_count": 22,
      "outputs": [
        {
          "output_type": "stream",
          "name": "stdout",
          "text": [
            "\n",
            "✅ Fixed anchor-based rescaled data saved to:\n",
            "/content/drive/MyDrive/google_trends_anchor/gt_anchor_scaled.csv\n"
          ]
        }
      ]
    }
  ]
}