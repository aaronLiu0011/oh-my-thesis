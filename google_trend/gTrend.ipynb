{
 "cells": [
  {
   "cell_type": "code",
   "execution_count": 2,
   "id": "e66ecc0b",
   "metadata": {},
   "outputs": [
    {
     "name": "stdout",
     "output_type": "stream",
     "text": [
      "Collecting pytrends\n",
      "  Using cached pytrends-4.9.2-py3-none-any.whl.metadata (13 kB)\n",
      "Requirement already satisfied: pandas in /Users/okuran/Desktop/thesis/.venv/lib/python3.9/site-packages (2.3.2)\n",
      "Requirement already satisfied: numpy in /Users/okuran/Desktop/thesis/.venv/lib/python3.9/site-packages (2.0.2)\n",
      "Collecting pyarrow\n",
      "  Downloading pyarrow-21.0.0-cp39-cp39-macosx_12_0_arm64.whl.metadata (3.3 kB)\n",
      "Requirement already satisfied: requests>=2.0 in /Users/okuran/Desktop/thesis/.venv/lib/python3.9/site-packages (from pytrends) (2.32.5)\n",
      "Collecting lxml (from pytrends)\n",
      "  Downloading lxml-6.0.1-cp39-cp39-macosx_10_9_universal2.whl.metadata (3.8 kB)\n",
      "Requirement already satisfied: python-dateutil>=2.8.2 in /Users/okuran/Desktop/thesis/.venv/lib/python3.9/site-packages (from pandas) (2.9.0.post0)\n",
      "Requirement already satisfied: pytz>=2020.1 in /Users/okuran/Desktop/thesis/.venv/lib/python3.9/site-packages (from pandas) (2025.2)\n",
      "Requirement already satisfied: tzdata>=2022.7 in /Users/okuran/Desktop/thesis/.venv/lib/python3.9/site-packages (from pandas) (2025.2)\n",
      "Requirement already satisfied: six>=1.5 in /Users/okuran/Desktop/thesis/.venv/lib/python3.9/site-packages (from python-dateutil>=2.8.2->pandas) (1.17.0)\n",
      "Requirement already satisfied: charset_normalizer<4,>=2 in /Users/okuran/Desktop/thesis/.venv/lib/python3.9/site-packages (from requests>=2.0->pytrends) (3.4.3)\n",
      "Requirement already satisfied: idna<4,>=2.5 in /Users/okuran/Desktop/thesis/.venv/lib/python3.9/site-packages (from requests>=2.0->pytrends) (3.10)\n",
      "Requirement already satisfied: urllib3<3,>=1.21.1 in /Users/okuran/Desktop/thesis/.venv/lib/python3.9/site-packages (from requests>=2.0->pytrends) (2.5.0)\n",
      "Requirement already satisfied: certifi>=2017.4.17 in /Users/okuran/Desktop/thesis/.venv/lib/python3.9/site-packages (from requests>=2.0->pytrends) (2025.8.3)\n",
      "Using cached pytrends-4.9.2-py3-none-any.whl (15 kB)\n",
      "Downloading pyarrow-21.0.0-cp39-cp39-macosx_12_0_arm64.whl (31.2 MB)\n",
      "\u001b[2K   \u001b[90m━━━━━━━━━━━━━━━━━━━━━━━━━━━━━━━━━━━━━━━━\u001b[0m \u001b[32m31.2/31.2 MB\u001b[0m \u001b[31m3.1 MB/s\u001b[0m  \u001b[33m0:00:09\u001b[0mm0:00:01\u001b[0m00:01\u001b[0m\n",
      "\u001b[?25hDownloading lxml-6.0.1-cp39-cp39-macosx_10_9_universal2.whl (8.4 MB)\n",
      "\u001b[2K   \u001b[90m━━━━━━━━━━━━━━━━━━━━━━━━━━━━━━━━━━━━━━━━\u001b[0m \u001b[32m8.4/8.4 MB\u001b[0m \u001b[31m6.6 MB/s\u001b[0m  \u001b[33m0:00:01\u001b[0m eta \u001b[36m0:00:01\u001b[0m\n",
      "\u001b[?25hInstalling collected packages: pyarrow, lxml, pytrends\n",
      "\u001b[2K   \u001b[90m━━━━━━━━━━━━━━━━━━━━━━━━━━━━━━━━━━━━━━━━\u001b[0m \u001b[32m3/3\u001b[0m [pytrends]1/3\u001b[0m [lxml]\n",
      "\u001b[1A\u001b[2KSuccessfully installed lxml-6.0.1 pyarrow-21.0.0 pytrends-4.9.2\n",
      "Note: you may need to restart the kernel to use updated packages.\n"
     ]
    }
   ],
   "source": [
    "%pip install pytrends pandas numpy pyarrow"
   ]
  },
  {
   "cell_type": "code",
   "execution_count": 3,
   "id": "68081b55",
   "metadata": {},
   "outputs": [
    {
     "name": "stderr",
     "output_type": "stream",
     "text": [
      "/Users/okuran/Desktop/thesis/.venv/lib/python3.9/site-packages/urllib3/__init__.py:35: NotOpenSSLWarning: urllib3 v2 only supports OpenSSL 1.1.1+, currently the 'ssl' module is compiled with 'LibreSSL 2.8.3'. See: https://github.com/urllib3/urllib3/issues/3020\n",
      "  warnings.warn(\n"
     ]
    }
   ],
   "source": [
    "from pytrends.request import TrendReq\n",
    "import pandas as pd\n",
    "import numpy as np\n",
    "import time"
   ]
  },
  {
   "cell_type": "code",
   "execution_count": 4,
   "id": "177462ce",
   "metadata": {},
   "outputs": [],
   "source": [
    "pytrends = TrendReq(hl=\"en-US\", tz=360)\n",
    "\n",
    "# Global config\n",
    "TIMEFRAME = \"2016-01-01 2025-07-31\"\n",
    "ANCHOR = \"weather\"\n",
    "SLEEP_SEC = 2.0  \n",
    "\n",
    "KEYWORDS = [\n",
    "    \"syphilis\", \"gonorrhea\", \"chlamydia\",\n",
    "    \"syphilis symptoms\", \"gonorrhea symptoms\", \"chlamydia symptoms\",\n",
    "    \"STD test\", \"HIV testing\", \"STD clinic\"\n",
    "]\n",
    "KEYWORDS = sorted(KEYWORDS)"
   ]
  },
  {
   "cell_type": "code",
   "execution_count": 5,
   "id": "ecc9da9f",
   "metadata": {},
   "outputs": [
    {
     "data": {
      "text/html": [
       "<div>\n",
       "<style scoped>\n",
       "    .dataframe tbody tr th:only-of-type {\n",
       "        vertical-align: middle;\n",
       "    }\n",
       "\n",
       "    .dataframe tbody tr th {\n",
       "        vertical-align: top;\n",
       "    }\n",
       "\n",
       "    .dataframe thead th {\n",
       "        text-align: right;\n",
       "    }\n",
       "</style>\n",
       "<table border=\"1\" class=\"dataframe\">\n",
       "  <thead>\n",
       "    <tr style=\"text-align: right;\">\n",
       "      <th></th>\n",
       "      <th>FIPS</th>\n",
       "      <th>STATE</th>\n",
       "      <th>COUNTY</th>\n",
       "      <th>STATEFP</th>\n",
       "      <th>CNTYFP</th>\n",
       "      <th>CNTYTVHH</th>\n",
       "      <th>DMAINDEX</th>\n",
       "      <th>DMA</th>\n",
       "      <th>GOOGLE_DMA</th>\n",
       "    </tr>\n",
       "  </thead>\n",
       "  <tbody>\n",
       "    <tr>\n",
       "      <th>0</th>\n",
       "      <td>1001</td>\n",
       "      <td>AL</td>\n",
       "      <td>Autauga</td>\n",
       "      <td>1</td>\n",
       "      <td>1</td>\n",
       "      <td>16610</td>\n",
       "      <td>116</td>\n",
       "      <td>MONTGOMERY (AL) - SELMA (AL)                  ...</td>\n",
       "      <td>Montgomery (Selma) AL</td>\n",
       "    </tr>\n",
       "    <tr>\n",
       "      <th>1</th>\n",
       "      <td>1003</td>\n",
       "      <td>AL</td>\n",
       "      <td>Baldwin</td>\n",
       "      <td>1</td>\n",
       "      <td>3</td>\n",
       "      <td>58950</td>\n",
       "      <td>62</td>\n",
       "      <td>MOBILE (AL) - PENSACOLA (FL) - FT. WALTON (FL)...</td>\n",
       "      <td>Mobile AL-Pensacola (Ft. Walton Beach) FL</td>\n",
       "    </tr>\n",
       "    <tr>\n",
       "      <th>2</th>\n",
       "      <td>1005</td>\n",
       "      <td>AL</td>\n",
       "      <td>Barbour</td>\n",
       "      <td>1</td>\n",
       "      <td>5</td>\n",
       "      <td>10570</td>\n",
       "      <td>126</td>\n",
       "      <td>COLUMBUS (GA)                                 ...</td>\n",
       "      <td>Columbus GA</td>\n",
       "    </tr>\n",
       "    <tr>\n",
       "      <th>3</th>\n",
       "      <td>1007</td>\n",
       "      <td>AL</td>\n",
       "      <td>Bibb</td>\n",
       "      <td>1</td>\n",
       "      <td>7</td>\n",
       "      <td>7820</td>\n",
       "      <td>40</td>\n",
       "      <td>BIRMINGHAM (AL) - ANNISTON (AL) - TUSCALOOSA (...</td>\n",
       "      <td>Birmingham AL</td>\n",
       "    </tr>\n",
       "    <tr>\n",
       "      <th>4</th>\n",
       "      <td>1009</td>\n",
       "      <td>AL</td>\n",
       "      <td>Blount</td>\n",
       "      <td>1</td>\n",
       "      <td>9</td>\n",
       "      <td>20000</td>\n",
       "      <td>40</td>\n",
       "      <td>BIRMINGHAM (AL) - ANNISTON (AL) - TUSCALOOSA (...</td>\n",
       "      <td>Birmingham AL</td>\n",
       "    </tr>\n",
       "  </tbody>\n",
       "</table>\n",
       "</div>"
      ],
      "text/plain": [
       "   FIPS STATE                        COUNTY  STATEFP  CNTYFP  CNTYTVHH  \\\n",
       "0  1001   AL   Autauga                             1       1     16610   \n",
       "1  1003   AL   Baldwin                             1       3     58950   \n",
       "2  1005   AL   Barbour                             1       5     10570   \n",
       "3  1007   AL   Bibb                                1       7      7820   \n",
       "4  1009   AL   Blount                              1       9     20000   \n",
       "\n",
       "   DMAINDEX                                                DMA  \\\n",
       "0       116  MONTGOMERY (AL) - SELMA (AL)                  ...   \n",
       "1        62  MOBILE (AL) - PENSACOLA (FL) - FT. WALTON (FL)...   \n",
       "2       126  COLUMBUS (GA)                                 ...   \n",
       "3        40  BIRMINGHAM (AL) - ANNISTON (AL) - TUSCALOOSA (...   \n",
       "4        40  BIRMINGHAM (AL) - ANNISTON (AL) - TUSCALOOSA (...   \n",
       "\n",
       "                                  GOOGLE_DMA  \n",
       "0                      Montgomery (Selma) AL  \n",
       "1  Mobile AL-Pensacola (Ft. Walton Beach) FL  \n",
       "2                                Columbus GA  \n",
       "3                              Birmingham AL  \n",
       "4                              Birmingham AL  "
      ]
     },
     "execution_count": 5,
     "metadata": {},
     "output_type": "execute_result"
    }
   ],
   "source": [
    "dma_map = pd.read_csv(\"DMA_FIPS_County_Mapping.csv\")\n",
    "dma_map.head()"
   ]
  },
  {
   "cell_type": "code",
   "execution_count": 6,
   "id": "3db1936c",
   "metadata": {},
   "outputs": [
    {
     "name": "stdout",
     "output_type": "stream",
     "text": [
      "Fetching HIV testing ...\n"
     ]
    },
    {
     "ename": "TooManyRequestsError",
     "evalue": "The request failed: Google returned a response with code 429",
     "output_type": "error",
     "traceback": [
      "\u001b[0;31m---------------------------------------------------------------------------\u001b[0m",
      "\u001b[0;31mTooManyRequestsError\u001b[0m                      Traceback (most recent call last)",
      "Cell \u001b[0;32mIn[6], line 6\u001b[0m\n\u001b[1;32m      4\u001b[0m \u001b[38;5;28mprint\u001b[39m(\u001b[38;5;124mf\u001b[39m\u001b[38;5;124m\"\u001b[39m\u001b[38;5;124mFetching \u001b[39m\u001b[38;5;132;01m{\u001b[39;00mkw\u001b[38;5;132;01m}\u001b[39;00m\u001b[38;5;124m ...\u001b[39m\u001b[38;5;124m\"\u001b[39m)\n\u001b[1;32m      5\u001b[0m pytrends\u001b[38;5;241m.\u001b[39mbuild_payload([kw], timeframe\u001b[38;5;241m=\u001b[39mTIMEFRAME, geo\u001b[38;5;241m=\u001b[39m\u001b[38;5;124m\"\u001b[39m\u001b[38;5;124mUS\u001b[39m\u001b[38;5;124m\"\u001b[39m, gprop\u001b[38;5;241m=\u001b[39m\u001b[38;5;124m\"\u001b[39m\u001b[38;5;124m\"\u001b[39m)\n\u001b[0;32m----> 6\u001b[0m df \u001b[38;5;241m=\u001b[39m \u001b[43mpytrends\u001b[49m\u001b[38;5;241;43m.\u001b[39;49m\u001b[43minterest_by_region\u001b[49m\u001b[43m(\u001b[49m\u001b[43mresolution\u001b[49m\u001b[38;5;241;43m=\u001b[39;49m\u001b[38;5;124;43m\"\u001b[39;49m\u001b[38;5;124;43mDMA\u001b[39;49m\u001b[38;5;124;43m\"\u001b[39;49m\u001b[43m,\u001b[49m\u001b[43m \u001b[49m\u001b[43minc_low_vol\u001b[49m\u001b[38;5;241;43m=\u001b[39;49m\u001b[38;5;28;43;01mTrue\u001b[39;49;00m\u001b[43m,\u001b[49m\u001b[43m \u001b[49m\u001b[43minc_geo_code\u001b[49m\u001b[38;5;241;43m=\u001b[39;49m\u001b[38;5;28;43;01mTrue\u001b[39;49;00m\u001b[43m)\u001b[49m\n\u001b[1;32m      7\u001b[0m df \u001b[38;5;241m=\u001b[39m df\u001b[38;5;241m.\u001b[39mreset_index()\u001b[38;5;241m.\u001b[39mrename(columns\u001b[38;5;241m=\u001b[39m{\u001b[38;5;124m\"\u001b[39m\u001b[38;5;124mgeoName\u001b[39m\u001b[38;5;124m\"\u001b[39m:\u001b[38;5;124m\"\u001b[39m\u001b[38;5;124mdma_name\u001b[39m\u001b[38;5;124m\"\u001b[39m, \u001b[38;5;124m\"\u001b[39m\u001b[38;5;124mgeoCode\u001b[39m\u001b[38;5;124m\"\u001b[39m:\u001b[38;5;124m\"\u001b[39m\u001b[38;5;124mdma_code\u001b[39m\u001b[38;5;124m\"\u001b[39m, kw:\u001b[38;5;124m\"\u001b[39m\u001b[38;5;124mgt_value\u001b[39m\u001b[38;5;124m\"\u001b[39m})\n\u001b[1;32m      8\u001b[0m df[\u001b[38;5;124m\"\u001b[39m\u001b[38;5;124mkeyword\u001b[39m\u001b[38;5;124m\"\u001b[39m] \u001b[38;5;241m=\u001b[39m kw\n",
      "File \u001b[0;32m~/Desktop/thesis/.venv/lib/python3.9/site-packages/pytrends/request.py:340\u001b[0m, in \u001b[0;36mTrendReq.interest_by_region\u001b[0;34m(self, resolution, inc_low_vol, inc_geo_code)\u001b[0m\n\u001b[1;32m    337\u001b[0m region_payload[\u001b[38;5;124m'\u001b[39m\u001b[38;5;124mtz\u001b[39m\u001b[38;5;124m'\u001b[39m] \u001b[38;5;241m=\u001b[39m \u001b[38;5;28mself\u001b[39m\u001b[38;5;241m.\u001b[39mtz\n\u001b[1;32m    339\u001b[0m \u001b[38;5;66;03m# parse returned json\u001b[39;00m\n\u001b[0;32m--> 340\u001b[0m req_json \u001b[38;5;241m=\u001b[39m \u001b[38;5;28;43mself\u001b[39;49m\u001b[38;5;241;43m.\u001b[39;49m\u001b[43m_get_data\u001b[49m\u001b[43m(\u001b[49m\n\u001b[1;32m    341\u001b[0m \u001b[43m    \u001b[49m\u001b[43murl\u001b[49m\u001b[38;5;241;43m=\u001b[39;49m\u001b[43mTrendReq\u001b[49m\u001b[38;5;241;43m.\u001b[39;49m\u001b[43mINTEREST_BY_REGION_URL\u001b[49m\u001b[43m,\u001b[49m\n\u001b[1;32m    342\u001b[0m \u001b[43m    \u001b[49m\u001b[43mmethod\u001b[49m\u001b[38;5;241;43m=\u001b[39;49m\u001b[43mTrendReq\u001b[49m\u001b[38;5;241;43m.\u001b[39;49m\u001b[43mGET_METHOD\u001b[49m\u001b[43m,\u001b[49m\n\u001b[1;32m    343\u001b[0m \u001b[43m    \u001b[49m\u001b[43mtrim_chars\u001b[49m\u001b[38;5;241;43m=\u001b[39;49m\u001b[38;5;241;43m5\u001b[39;49m\u001b[43m,\u001b[49m\n\u001b[1;32m    344\u001b[0m \u001b[43m    \u001b[49m\u001b[43mparams\u001b[49m\u001b[38;5;241;43m=\u001b[39;49m\u001b[43mregion_payload\u001b[49m\u001b[43m,\u001b[49m\n\u001b[1;32m    345\u001b[0m \u001b[43m\u001b[49m\u001b[43m)\u001b[49m\n\u001b[1;32m    346\u001b[0m df \u001b[38;5;241m=\u001b[39m pd\u001b[38;5;241m.\u001b[39mDataFrame(req_json[\u001b[38;5;124m'\u001b[39m\u001b[38;5;124mdefault\u001b[39m\u001b[38;5;124m'\u001b[39m][\u001b[38;5;124m'\u001b[39m\u001b[38;5;124mgeoMapData\u001b[39m\u001b[38;5;124m'\u001b[39m])\n\u001b[1;32m    347\u001b[0m \u001b[38;5;28;01mif\u001b[39;00m (df\u001b[38;5;241m.\u001b[39mempty):\n",
      "File \u001b[0;32m~/Desktop/thesis/.venv/lib/python3.9/site-packages/pytrends/request.py:159\u001b[0m, in \u001b[0;36mTrendReq._get_data\u001b[0;34m(self, url, method, trim_chars, **kwargs)\u001b[0m\n\u001b[1;32m    157\u001b[0m \u001b[38;5;28;01melse\u001b[39;00m:\n\u001b[1;32m    158\u001b[0m     \u001b[38;5;28;01mif\u001b[39;00m response\u001b[38;5;241m.\u001b[39mstatus_code \u001b[38;5;241m==\u001b[39m status_codes\u001b[38;5;241m.\u001b[39mcodes\u001b[38;5;241m.\u001b[39mtoo_many_requests:\n\u001b[0;32m--> 159\u001b[0m         \u001b[38;5;28;01mraise\u001b[39;00m exceptions\u001b[38;5;241m.\u001b[39mTooManyRequestsError\u001b[38;5;241m.\u001b[39mfrom_response(response)\n\u001b[1;32m    160\u001b[0m     \u001b[38;5;28;01mraise\u001b[39;00m exceptions\u001b[38;5;241m.\u001b[39mResponseError\u001b[38;5;241m.\u001b[39mfrom_response(response)\n",
      "\u001b[0;31mTooManyRequestsError\u001b[0m: The request failed: Google returned a response with code 429"
     ]
    }
   ],
   "source": [
    "all_dma_results = []\n",
    "\n",
    "for kw in KEYWORDS:\n",
    "    print(f\"Fetching {kw} ...\")\n",
    "    pytrends.build_payload([kw], timeframe=TIMEFRAME, geo=\"US\", gprop=\"\")\n",
    "    df = pytrends.interest_by_region(resolution=\"DMA\", inc_low_vol=True, inc_geo_code=True)\n",
    "    df = df.reset_index().rename(columns={\"geoName\":\"dma_name\", \"geoCode\":\"dma_code\", kw:\"gt_value\"})\n",
    "    df[\"keyword\"] = kw\n",
    "    all_dma_results.append(df)\n",
    "    time.sleep(SLEEP_SEC)\n",
    "\n",
    "dma_gt = pd.concat(all_dma_results, ignore_index=True)\n",
    "dma_gt.head()\n"
   ]
  }
 ],
 "metadata": {
  "kernelspec": {
   "display_name": ".venv",
   "language": "python",
   "name": "python3"
  },
  "language_info": {
   "codemirror_mode": {
    "name": "ipython",
    "version": 3
   },
   "file_extension": ".py",
   "mimetype": "text/x-python",
   "name": "python",
   "nbconvert_exporter": "python",
   "pygments_lexer": "ipython3",
   "version": "3.9.6"
  }
 },
 "nbformat": 4,
 "nbformat_minor": 5
}
